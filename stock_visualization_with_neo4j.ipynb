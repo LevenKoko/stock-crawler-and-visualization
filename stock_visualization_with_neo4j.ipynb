{
 "cells": [
  {
   "cell_type": "code",
   "execution_count": 23,
   "metadata": {
    "collapsed": true
   },
   "outputs": [],
   "source": [
    "from py2neo import Graph, Node, Relationship, NodeMatcher\n",
    "import pandas as pd\n",
    "graph = Graph('http://localhost:7474/db/data/', auth=(\"neo4j\",\"123\"))"
   ]
  },
  {
   "cell_type": "code",
   "execution_count": 24,
   "outputs": [],
   "source": [
    "stock = pd.read_csv('1company_data_table.csv', encoding='gbk')\n",
    "# print(stock)\n",
    "# 空值填充为未知\n",
    "stock['行业'] = stock['行业'].fillna('未知')\n",
    "# 去重\n",
    "stock = stock.drop_duplicates(subset=None, keep='first', inplace=False)\n",
    "# 创建股票信息实体\n",
    "for i in stock.values:\n",
    "    a = Node('股票', TS代码=i[0], 股票名称=i[1], 公司名称=i[2], 公司成立时间=i[5],\n",
    "                行业=i[6], 公司介绍=i[7], 公司联系电话=i[-1])\n",
    "    graph.create(a)"
   ],
   "metadata": {
    "collapsed": false
   }
  },
  {
   "cell_type": "code",
   "execution_count": 25,
   "outputs": [],
   "source": [
    "# 创建股东实体\n",
    "holder = pd.read_csv('1sharehold_data_table.csv', encoding='gbk')\n",
    "# print(holder)\n",
    "holder_iden = holder[['股东名称', '股东性质']].drop_duplicates(keep='first', inplace=False)\n",
    "for i in holder_iden.values:\n",
    "    a = Node('股东',  股东名称=i[0],  股东性质=i[1])\n",
    "    graph.create(a)"
   ],
   "metadata": {
    "collapsed": false
   }
  },
  {
   "cell_type": "code",
   "execution_count": 26,
   "outputs": [],
   "source": [
    "# 创建参股关系\n",
    "matcher = NodeMatcher(graph)\n",
    "for i in holder.values:\n",
    "    a = matcher.match(\"股票\", TS代码=i[0]).first()\n",
    "    b = matcher.match(\"股东\", 股东名称=i[1]).first()\n",
    "    r = Relationship(b, '参股', a , 股份类型=i[3], 持股数=i[4], 占总股本比例=i[5])\n",
    "    graph.create(r)"
   ],
   "metadata": {
    "collapsed": false
   }
  },
  {
   "cell_type": "code",
   "execution_count": 27,
   "outputs": [],
   "source": [
    "fund = pd.read_csv('1fund_data_table.csv', encoding='gbk')\n",
    "fund_iden = fund[['基金名称', '基金代码']].drop_duplicates(keep='first', inplace=False)\n",
    "for i in fund_iden.values:\n",
    "    a = Node('基金', 基金名称=i[0], 基金代码=i[1])\n",
    "    graph.create(a)\n",
    "matcher = NodeMatcher(graph)\n",
    "for i in fund.values:\n",
    "    a = matcher.match('股票', TS代码=i[0]).first()\n",
    "    b = matcher.match('基金', 基金名称=i[2]).first()\n",
    "    r = Relationship(b, '持股', a, 持股数=i[3], 占总股本比例=i[4])\n",
    "    graph.create(r)"
   ],
   "metadata": {
    "collapsed": false
   }
  },
  {
   "cell_type": "code",
   "execution_count": 28,
   "outputs": [],
   "source": [
    "concept = pd.read_csv('1concept_data_table.csv', encoding='gbk')\n",
    "\n",
    "concept_iden = concept[['概念']].drop_duplicates(keep='first', inplace=False)\n",
    "for i in concept_iden.values:\n",
    "    a = Node('概念', 概念名称=i[0])\n",
    "    graph.create(a)\n",
    "\n",
    "matcher = NodeMatcher(graph)\n",
    "for i in concept.values:\n",
    "    a = matcher.match('股票', TS代码=i[0]).first()\n",
    "    b = matcher.match('概念', 概念名称=i[1]).first()\n",
    "    r = Relationship(a, '概念属于', b)\n",
    "    graph.create(r)"
   ],
   "metadata": {
    "collapsed": false
   }
  },
  {
   "cell_type": "code",
   "execution_count": 29,
   "outputs": [],
   "source": [
    "news = pd.read_csv('1news_data_table.csv', encoding='gbk')\n",
    "\n",
    "news_iden = news[['公告']].drop_duplicates(keep='first', inplace=False)\n",
    "for i in news_iden.values:\n",
    "    a = Node('公告', 公告=i[0])\n",
    "    graph.create(a)\n",
    "\n",
    "matcher = NodeMatcher(graph)\n",
    "for i in news.values:\n",
    "    a = matcher.match('股票', TS代码=i[0]).first()\n",
    "    b = matcher.match('公告', 公告=i[2]).first()\n",
    "    r = Relationship(a, '发布公告', b, 时间=i[1])\n",
    "    graph.create(r)"
   ],
   "metadata": {
    "collapsed": false
   }
  },
  {
   "cell_type": "code",
   "execution_count": 22,
   "outputs": [],
   "source": [
    "# graph.delete_all()"
   ],
   "metadata": {
    "collapsed": false
   }
  }
 ],
 "metadata": {
  "kernelspec": {
   "display_name": "Python 3",
   "language": "python",
   "name": "python3"
  },
  "language_info": {
   "codemirror_mode": {
    "name": "ipython",
    "version": 2
   },
   "file_extension": ".py",
   "mimetype": "text/x-python",
   "name": "python",
   "nbconvert_exporter": "python",
   "pygments_lexer": "ipython2",
   "version": "2.7.6"
  }
 },
 "nbformat": 4,
 "nbformat_minor": 0
}
